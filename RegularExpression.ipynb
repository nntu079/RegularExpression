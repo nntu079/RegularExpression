{
  "nbformat": 4,
  "nbformat_minor": 0,
  "metadata": {
    "colab": {
      "name": "RegularExpression.ipynb",
      "provenance": [],
      "collapsed_sections": [],
      "authorship_tag": "ABX9TyOvdJf72dTGAoGPV7qzl+hr",
      "include_colab_link": true
    },
    "kernelspec": {
      "name": "python3",
      "display_name": "Python 3"
    }
  },
  "cells": [
    {
      "cell_type": "markdown",
      "metadata": {
        "id": "view-in-github",
        "colab_type": "text"
      },
      "source": [
        "<a href=\"https://colab.research.google.com/github/nntu079/RegularExpression/blob/main/RegularExpression.ipynb\" target=\"_parent\"><img src=\"https://colab.research.google.com/assets/colab-badge.svg\" alt=\"Open In Colab\"/></a>"
      ]
    },
    {
      "cell_type": "code",
      "metadata": {
        "id": "NbSIV-uYQRff"
      },
      "source": [
        "import re"
      ],
      "execution_count": 61,
      "outputs": []
    },
    {
      "cell_type": "code",
      "metadata": {
        "id": "jDicnEuBTStC",
        "outputId": "d783a11e-9440-427c-8fad-97518400b1b7",
        "colab": {
          "base_uri": "https://localhost:8080/",
          "height": 34
        }
      },
      "source": [
        "# Yêu cầu: Tìm các chuỗi ‘hcmus’ có trong s\n",
        "s = 'An có MSSV là 1612345 và có email là an@gmail.com\\nHà có MSSV là 1654321 và có email là 1654321@hcmus.edu.vn';\n",
        "\n",
        "results = re.findall(r'hcmus', s)\n",
        "results"
      ],
      "execution_count": 62,
      "outputs": [
        {
          "output_type": "execute_result",
          "data": {
            "text/plain": [
              "['hcmus']"
            ]
          },
          "metadata": {
            "tags": []
          },
          "execution_count": 62
        }
      ]
    },
    {
      "cell_type": "code",
      "metadata": {
        "id": "YeZMVY8URT-b",
        "outputId": "b72d6bd3-0f44-4bc5-bddf-64420a7f0dec",
        "colab": {
          "base_uri": "https://localhost:8080/",
          "height": 34
        }
      },
      "source": [
        "# Yêu cầu: Tìm các MSSV (7 chữ số) có trong s\n",
        "s = 'An có MSSV là 1612345 và có email là an@gmail.com\\nHà có MSSV là 1654321 và có email là 1654321@hcmus.edu.vn'\n",
        "\n",
        "results = re.findall(r'\\d{7}', s)\n",
        "results"
      ],
      "execution_count": 63,
      "outputs": [
        {
          "output_type": "execute_result",
          "data": {
            "text/plain": [
              "['1612345', '1654321', '1654321']"
            ]
          },
          "metadata": {
            "tags": []
          },
          "execution_count": 63
        }
      ]
    },
    {
      "cell_type": "code",
      "metadata": {
        "id": "RquA3VAcTNsf",
        "outputId": "546a051d-df65-4ab5-a2f3-8dff835644d8",
        "colab": {
          "base_uri": "https://localhost:8080/",
          "height": 34
        }
      },
      "source": [
        "# Yêu cầu: Tìm các địa chỉ email có trong s\n",
        "s = 'An có MSSV là 1612345 và có email là an@gmail.com\\nHà có MSSV là 1654321 và có email là 1654321@hcmus.edu.vn'\n",
        "\n",
        "results = re.findall(r'\\w+@[\\w.]+', s)\n",
        "results"
      ],
      "execution_count": 64,
      "outputs": [
        {
          "output_type": "execute_result",
          "data": {
            "text/plain": [
              "['an@gmail.com', '1654321@hcmus.edu.vn']"
            ]
          },
          "metadata": {
            "tags": []
          },
          "execution_count": 64
        }
      ]
    },
    {
      "cell_type": "code",
      "metadata": {
        "id": "GBRsTWSpbYKt",
        "outputId": "e1a92024-4c4e-4b37-e16c-56bbd4d61b06",
        "colab": {
          "base_uri": "https://localhost:8080/",
          "height": 34
        }
      },
      "source": [
        "# Trích xuất danh sách các email\n",
        "\n",
        "s='An có MSSV là 1612345 và có email là an@gmail.com\\nHà có MSSV là 1654321 và có email là 1654321@hcmus.edu.vn'\n",
        "regex = r'\\w+@[\\w.]+'\n",
        "\n",
        "p = re.compile(regex)\n",
        "\n",
        "rs=[]\n",
        "for m in p.finditer(s):\n",
        "    rs.append((m.start(),len(m.group()),m.group()));\n",
        "rs"
      ],
      "execution_count": 65,
      "outputs": [
        {
          "output_type": "execute_result",
          "data": {
            "text/plain": [
              "[(37, 12, 'an@gmail.com'), (87, 20, '1654321@hcmus.edu.vn')]"
            ]
          },
          "metadata": {
            "tags": []
          },
          "execution_count": 65
        }
      ]
    },
    {
      "cell_type": "code",
      "metadata": {
        "id": "o7TkzATpdGCX",
        "outputId": "9ee189cf-21b7-438c-d274-c90849402fb3",
        "colab": {
          "base_uri": "https://localhost:8080/",
          "height": 69
        }
      },
      "source": [
        "# Trích xuất địa chỉ website\n",
        "\n",
        "s='domain.com www.domain.com, http://domain.com ,https://domain.com'\n",
        "\n",
        "regex = r\"(?i)\\b((?:https?://|www\\d{0,3}[.]|[a-z0-9.\\-]+[.][a-z]{2,4}/)(?:[^\\s()<>]+|\\(([^\\s()<>]+|(\\([^\\s()<>]+\\)))*\\))+(?:\\(([^\\s()<>]+|(\\([^\\s()<>]+\\)))*\\)|[^\\s`!()\\[\\]{};:'\\\".,<>?«»“”‘’]))\"\n",
        "p = re.compile(regex)\n",
        "\n",
        "rs=[]\n",
        "for m in p.finditer(s):\n",
        "    rs.append((m.start(),len(m.group()),m.group()));\n",
        "rs"
      ],
      "execution_count": 66,
      "outputs": [
        {
          "output_type": "execute_result",
          "data": {
            "text/plain": [
              "[(11, 14, 'www.domain.com'),\n",
              " (27, 17, 'http://domain.com'),\n",
              " (46, 18, 'https://domain.com')]"
            ]
          },
          "metadata": {
            "tags": []
          },
          "execution_count": 66
        }
      ]
    },
    {
      "cell_type": "code",
      "metadata": {
        "id": "zYWgSwBMel8J",
        "outputId": "390dfd10-c4b6-4de5-ba55-145b643d6495",
        "colab": {
          "base_uri": "https://localhost:8080/",
          "height": 34
        }
      },
      "source": [
        "# Trích xuất sdt\n",
        "\n",
        "s='An có sdt là 0326059967 và \\nHà có MSSV sdt là 0968654784'\n",
        "regex = r'\\d{10}'\n",
        "p = re.compile(regex)\n",
        "rs=[]\n",
        "for m in p.finditer(s):\n",
        "    rs.append((m.start(),len(m.group()),m.group()));\n",
        "rs"
      ],
      "execution_count": 67,
      "outputs": [
        {
          "output_type": "execute_result",
          "data": {
            "text/plain": [
              "[(13, 10, '0326059967'), (46, 10, '0968654784')]"
            ]
          },
          "metadata": {
            "tags": []
          },
          "execution_count": 67
        }
      ]
    },
    {
      "cell_type": "code",
      "metadata": {
        "id": "0st-nY_YeU2v"
      },
      "source": [
        ""
      ],
      "execution_count": 67,
      "outputs": []
    }
  ]
}